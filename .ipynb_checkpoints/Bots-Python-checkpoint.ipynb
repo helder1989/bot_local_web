{
 "cells": [
  {
   "cell_type": "markdown",
   "id": "b4651829",
   "metadata": {},
   "source": [
    "## Introdução \n",
    "\n",
    "O objetivo desse experimento é realizar a criação de duas aplicações, uma com o bot no computador utilizando o **Pyautogui** que é uma ferramenta, biblioteca que nos permite controlar o mouse e o teclado do nosso computador e outra com o **Selenium** que é uma biblioteca que vai nos possibilitar essa automação via internet.\n",
    "\n",
    "O **Pyautogui**  foi instalado através do Anaconda Prompt\n",
    "\n",
    "\n",
    "Sendo assim vamos desenvolver dois modelos práticos de **Bots**."
   ]
  },
  {
   "cell_type": "markdown",
   "id": "21168c0b",
   "metadata": {},
   "source": [
    "## Bot no Computador\n",
    "\n",
    "A idéia será criar um bot pra fazer login em qualquer sistema."
   ]
  },
  {
   "cell_type": "code",
   "execution_count": 5,
   "id": "9c82c850",
   "metadata": {},
   "outputs": [],
   "source": [
    "import pyautogui\n",
    "\n",
    "pyautogui.PAUSE = 2 #todo comando do pyautogui ele vai esperar 2 segundos pra não correr o risco de embolar \n",
    "#cont...uma linha de código com a outra\n",
    "\n",
    "# listar o que o bot tem que fazer\n",
    "pyautogui.press(\"win\") #solicitar através da tecla windows para buscar o arquivo, sistema\n",
    "pyautogui.write(\"login.silva\") #escrever o nome do programa, sistema\n",
    "pyautogui.press(\"backspace\") #pra facilitar o reconhecimento do arquivo\n",
    "pyautogui.press(\"enter\") #abrir a nossa ferramenta\n",
    "# 1º abrir a ferramenta/sistema/o programa\n",
    "# 2º preencher login\n",
    "pyautogui.click(x=555, y=203)\n",
    "pyautogui.write(\"silva\")\n",
    "# 3º preencher a senha\n",
    "pyautogui.click(x=562, y=209)\n",
    "pyautogui.write(\"foco\")\n",
    "# 4º clicar em fazer login\n",
    "pyautogui.click(x=552, y=213) \n"
   ]
  },
  {
   "cell_type": "code",
   "execution_count": 6,
   "id": "58546e0f",
   "metadata": {},
   "outputs": [
    {
     "data": {
      "text/plain": [
       "Point(x=552, y=213)"
      ]
     },
     "execution_count": 6,
     "metadata": {},
     "output_type": "execute_result"
    }
   ],
   "source": [
    "#Vamos pedir o nosso código para pausar por 3 segundos que vai ser o tempo para mudar de tela e posicionar o\n",
    "#cont...o mouse aonde queremos que ele clique\n",
    "\n",
    "import time\n",
    "\n",
    "time.sleep(3) #esperando 3 segundos\n",
    "pyautogui.position() #vai imprimir, mostrar qual é a posição do nosso mouse naquele momento. Em campo devemos posicionar..\n",
    "#cont..o mouse e mandar rodar o código para registrar os número da posição"
   ]
  },
  {
   "cell_type": "markdown",
   "id": "9569a7be",
   "metadata": {},
   "source": [
    "## Bot na internet\n",
    "\n",
    "Criando um bot pra fazer login no **GitHub**"
   ]
  },
  {
   "cell_type": "code",
   "execution_count": 3,
   "id": "8198b9d4",
   "metadata": {},
   "outputs": [],
   "source": [
    "from selenium import webdriver\n",
    "\n",
    "navegador = webdriver.Chrome()\n",
    "\n",
    "navegador.get(\"https://github.com/login\")\n"
   ]
  },
  {
   "cell_type": "markdown",
   "id": "ad7c9fd4",
   "metadata": {},
   "source": [
    "## Conclusão"
   ]
  },
  {
   "cell_type": "markdown",
   "id": "cd9ee737",
   "metadata": {},
   "source": [
    "Sendo assim foi desenvolvido duas aplicações, um bot local, ou seja, em minha máquina e outra via web no qual já consguimos visualizar diversas tarefas que podemos automatiza, criar um bot."
   ]
  }
 ],
 "metadata": {
  "kernelspec": {
   "display_name": "Python 3 (ipykernel)",
   "language": "python",
   "name": "python3"
  },
  "language_info": {
   "codemirror_mode": {
    "name": "ipython",
    "version": 3
   },
   "file_extension": ".py",
   "mimetype": "text/x-python",
   "name": "python",
   "nbconvert_exporter": "python",
   "pygments_lexer": "ipython3",
   "version": "3.9.12"
  }
 },
 "nbformat": 4,
 "nbformat_minor": 5
}
